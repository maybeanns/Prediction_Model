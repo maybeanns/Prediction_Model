{
 "cells": [
  {
   "cell_type": "code",
   "execution_count": 3,
   "id": "0463405b-5ad8-46bf-b3a7-035be20fa54b",
   "metadata": {},
   "outputs": [
    {
     "name": "stdout",
     "output_type": "stream",
     "text": [
      "Model and scaler saved successfully.\n"
     ]
    }
   ],
   "source": [
    "import pandas as pd\n",
    "import numpy as np\n",
    "from sklearn.model_selection import train_test_split\n",
    "from sklearn.preprocessing import StandardScaler\n",
    "from xgboost import XGBRegressor\n",
    "import joblib\n",
    "import json\n",
    "\n",
    "# Load and preprocess data\n",
    "df = pd.read_csv('clean_islamabad_properties.csv')\n",
    "\n",
    "# Feature Engineering\n",
    "df['Price_per_SqFt'] = df['Price_Millions'] * 1000000 / df['Area_SqFt']\n",
    "df['Beds_to_Area_Ratio'] = df['Beds_Num'] / df['Area_SqFt']\n",
    "\n",
    "# Prepare data for modeling\n",
    "X = df[['Beds_Num', 'Area_SqFt', 'Location_Encoded', 'Price_per_SqFt', 'Beds_to_Area_Ratio']]\n",
    "y = df['Price_Millions']\n",
    "\n",
    "# Split and scale the data\n",
    "X_train, X_test, y_train, y_test = train_test_split(X, y, test_size=0.2, random_state=42)\n",
    "scaler = StandardScaler()\n",
    "X_train_scaled = scaler.fit_transform(X_train)\n",
    "\n",
    "# Train the model\n",
    "model = XGBRegressor(n_estimators=100, learning_rate=0.1, random_state=42)\n",
    "model.fit(X_train_scaled, y_train)\n",
    "\n",
    "# Save the model and scaler\n",
    "joblib.dump(model, 'xgb_model.joblib')\n",
    "joblib.dump(scaler, 'scaler.joblib')\n",
    "\n",
    "print(\"Model and scaler saved successfully.\")"
   ]
  },
  {
   "cell_type": "code",
   "execution_count": 5,
   "id": "e8ddd329-65ce-4ae0-afda-6da97aa6f2ee",
   "metadata": {},
   "outputs": [
    {
     "name": "stderr",
     "output_type": "stream",
     "text": [
      "2024-07-30 02:31:51.959 \n",
      "  \u001b[33m\u001b[1mWarning:\u001b[0m to view this Streamlit app on a browser, run it with the following\n",
      "  command:\n",
      "\n",
      "    streamlit run C:\\Users\\hp\\anaconda3\\Lib\\site-packages\\ipykernel_launcher.py [ARGUMENTS]\n"
     ]
    },
    {
     "data": {
      "text/plain": [
       "DeltaGenerator()"
      ]
     },
     "execution_count": 5,
     "metadata": {},
     "output_type": "execute_result"
    }
   ],
   "source": [
    "import streamlit as st\n",
    "import pandas as pd\n",
    "import numpy as np\n",
    "import joblib\n",
    "import json\n",
    "\n",
    "# Load the saved model, scaler, and location mapping\n",
    "@st.cache_resource\n",
    "def load_model_and_data():\n",
    "    model = joblib.load('xgb_model.joblib')\n",
    "    scaler = joblib.load('scaler.joblib')\n",
    "    with open('location_encoding.json', 'r') as f:\n",
    "        location_mapping = json.load(f)\n",
    "    return model, scaler, location_mapping\n",
    "\n",
    "model, scaler, location_mapping = load_model_and_data()\n",
    "\n",
    "# Prediction function\n",
    "def predict_price(beds, area, location):\n",
    "    price_per_sqft = 0  # We'll update this after the first prediction\n",
    "    beds_to_area_ratio = beds / area\n",
    "    features = np.array([[beds, area, location, price_per_sqft, beds_to_area_ratio]])\n",
    "    scaled_features = scaler.transform(features)\n",
    "    predicted_price = model.predict(scaled_features)[0]\n",
    "    \n",
    "    # Update price_per_sqft and predict again\n",
    "    price_per_sqft = predicted_price * 1000000 / area\n",
    "    features = np.array([[beds, area, location, price_per_sqft, beds_to_area_ratio]])\n",
    "    scaled_features = scaler.transform(features)\n",
    "    final_predicted_price = model.predict(scaled_features)[0]\n",
    "    \n",
    "    return final_predicted_price\n",
    "\n",
    "# Streamlit app\n",
    "st.title('Islamabad Property Price Predictor')\n",
    "\n",
    "# User inputs\n",
    "area = st.number_input('Area (in square feet)', min_value=100, max_value=10000, value=1000)\n",
    "beds = st.number_input('Number of Bedrooms', min_value=1, max_value=10, value=3)\n",
    "location = st.selectbox('Location', list(location_mapping.keys()))\n",
    "\n",
    "if st.button('Predict Price'):\n",
    "    location_encoded = location_mapping[location]\n",
    "    price = predict_price(beds, area, location_encoded)\n",
    "    st.success(f'The predicted price is {price:.2f} million PKR')\n",
    "\n",
    "# Optional: Add some information about the app\n",
    "st.info('This app predicts property prices in Islamabad based on area, number of bedrooms, and location.')"
   ]
  },
  {
   "cell_type": "code",
   "execution_count": 11,
   "id": "bce51c49-fa6e-4f61-9081-593a339f5b8c",
   "metadata": {},
   "outputs": [
    {
     "ename": "SyntaxError",
     "evalue": "invalid syntax (799773559.py, line 1)",
     "output_type": "error",
     "traceback": [
      "\u001b[1;36m  Cell \u001b[1;32mIn[11], line 1\u001b[1;36m\u001b[0m\n\u001b[1;33m    streamlit run C:\\Users\\hp\\anaconda3\\Lib\\site-packages\\ipykernel_launcher.py [ARGUMENTS]\u001b[0m\n\u001b[1;37m              ^\u001b[0m\n\u001b[1;31mSyntaxError\u001b[0m\u001b[1;31m:\u001b[0m invalid syntax\n"
     ]
    }
   ],
   "source": [
    "streamlit run C:\\Users\\hp\\anaconda3\\Lib\\site-packages\\ipykernel_launcher.py [ARGUMENTS]"
   ]
  },
  {
   "cell_type": "code",
   "execution_count": null,
   "id": "4dca251b-a536-448e-8054-f5043cbd7010",
   "metadata": {},
   "outputs": [],
   "source": []
  }
 ],
 "metadata": {
  "kernelspec": {
   "display_name": "Python 3 (ipykernel)",
   "language": "python",
   "name": "python3"
  },
  "language_info": {
   "codemirror_mode": {
    "name": "ipython",
    "version": 3
   },
   "file_extension": ".py",
   "mimetype": "text/x-python",
   "name": "python",
   "nbconvert_exporter": "python",
   "pygments_lexer": "ipython3",
   "version": "3.11.7"
  }
 },
 "nbformat": 4,
 "nbformat_minor": 5
}
